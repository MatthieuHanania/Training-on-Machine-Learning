{
 "cells": [
  {
   "cell_type": "code",
   "execution_count": 1,
   "metadata": {},
   "outputs": [],
   "source": [
    "from IPython.display import HTML"
   ]
  },
  {
   "cell_type": "markdown",
   "metadata": {},
   "source": [
    "Keras permet de créer des réseaux de neurones par couches.\n",
    "\n",
    "Il existe de nombreuses couches différentes comme par exemple les couches Dense.\n",
    "\n",
    "Dans une couche Dense, chaque neurone d'une couche est connecté à tous les neurones de la couche précédente\n",
    "\n",
    "Le code suivant permet de créer une couche Dense qui contient 45 neurones. Modifier le code pour qu'il contienne 60 neurones.\n"
   ]
  },
  {
   "cell_type": "code",
   "execution_count": 2,
   "metadata": {},
   "outputs": [],
   "source": [
    "from tensorflow.keras.layers import Dense\n",
    "\n",
    "\n",
    "layer = Dense(units=60)\n",
    "\n"
   ]
  },
  {
   "cell_type": "markdown",
   "metadata": {},
   "source": [
    "La plupart des neurones ont ce qu'on appelle une fonction d'activation.\n",
    "\n",
    "Il s'agit d'une fonction non linéaire qui modifie la sortie.\n",
    "\n",
    "En Keras on peut spécifier la fonction d'activation de la couche grâce au paramètre \"**activation**\".\n",
    "\n",
    "Créer une couche Dense avec 60 neurones dont la fonction d'activation est \"relu\"\n"
   ]
  },
  {
   "cell_type": "code",
   "execution_count": 3,
   "metadata": {},
   "outputs": [
    {
     "data": {
      "text/plain": [
       "<tensorflow.python.keras.layers.core.Dense at 0x1f7a1eea220>"
      ]
     },
     "execution_count": 3,
     "metadata": {},
     "output_type": "execute_result"
    }
   ],
   "source": [
    "from tensorflow.keras.layers import Dense\n",
    "\n",
    "\n",
    "Dense(units=60,activation=\"relu\")\n",
    "\n"
   ]
  },
  {
   "cell_type": "markdown",
   "metadata": {},
   "source": [
    "Créer une couche dense à l'aide de keras qui contiendrait 10 neurones et aura pour fonction d'activation \"softmax\".\n",
    "\n",
    "Il n'y a pas besoin de créer de réseau, juste une simple couche\n"
   ]
  },
  {
   "cell_type": "code",
   "execution_count": 4,
   "metadata": {},
   "outputs": [
    {
     "data": {
      "text/plain": [
       "<tensorflow.python.keras.layers.core.Dense at 0x1f7a1eea9d0>"
      ]
     },
     "execution_count": 4,
     "metadata": {},
     "output_type": "execute_result"
    }
   ],
   "source": [
    "from tensorflow.keras.layers import Dense\n",
    "Dense(units=10,activation=\"softmax\")\n",
    "\n"
   ]
  },
  {
   "cell_type": "markdown",
   "metadata": {},
   "source": [
    "On a créé un réseau de neurone simple qui est stocké dans la variable **model**\n",
    "\n",
    "Compilez le avec l'optimiseur “sgd\" **et** la fonction de coût \"**categorical_crossentropy\"**\n",
    "\n",
    "Il est possible de mettre ces arguments sous forme de chaîne de caractère\n"
   ]
  },
  {
   "cell_type": "code",
   "execution_count": 5,
   "metadata": {},
   "outputs": [],
   "source": [
    "\n",
    "from tensorflow.keras.layers import Conv2D, MaxPooling2D, Dense, Flatten\n",
    "from tensorflow.keras.models import Sequential\n",
    "from tensorflow.keras.optimizers import  SGD\n",
    "model = Sequential([\n",
    "  Dense(200, activation='softmax'),\n",
    "  Dense(10, activation='softmax'),\n",
    "])\n",
    "model.compile(optimizer=\"sgd\",loss=\"categorical_crossentropy\")"
   ]
  },
  {
   "cell_type": "markdown",
   "metadata": {},
   "source": [
    "Expliquer à quoi sert une couche de neurone ayant une fonction d'activiation softmax\n",
    "    Softmax car on fait plusieurs couches Dense\n",
    "Dans quels cas est-ce utilisé ?\n",
    "    Quand on a plusieurs couche Dense\n"
   ]
  },
  {
   "cell_type": "markdown",
   "metadata": {},
   "source": [
    "Il existe deux manières de créer des réseaux de neurones en Keras : l'API dite séquentielle et l'API dite fonctionnelle.\n",
    "\n",
    "Dans cet exercice on s'intéresse à  l'API séquentielle.\n",
    "\n",
    "Le code ci-dessous permet de créer un réseau de neurone à deux couches.\n",
    "\n",
    "Modifier le réseau pour que :\n",
    "\n",
    "la première couche contienne 100 neurones et utilise la fonction d’activation relu\n",
    "\n",
    "La seconde couche contienne 10 neurones et utilise la fonction d'activation softmax\n"
   ]
  },
  {
   "cell_type": "code",
   "execution_count": 6,
   "metadata": {
    "pycharm": {
     "name": "#%%\n"
    }
   },
   "outputs": [],
   "source": [
    "from tensorflow.keras import Sequential\n",
    "from tensorflow.keras.layers import Dense\n",
    "\n",
    "model = Sequential()\n",
    "model.add(Dense(units=100, activation='relu'))\n",
    "model.add(Dense(units=10, activation='softmax'))\n"
   ]
  },
  {
   "cell_type": "markdown",
   "metadata": {},
   "source": [
    "Afin d'entraîner un modèle de deep learning, on a besoin d'un optimiser qui va modifier les poids du réseau.\n",
    "\n",
    "L'optimiser a pour but de trouver le minimum de la fonction de coût.\n",
    "\n",
    "Modifier le code suivant qui importe un optimiser pour que le learning rate, un peu trop gros, vaille 0.01\n"
   ]
  },
  {
   "cell_type": "code",
   "execution_count": 7,
   "metadata": {},
   "outputs": [],
   "source": [
    "from tensorflow import keras\n",
    "from tensorflow.keras.optimizers import SGD\n",
    "\n",
    "optimizer = SGD(learning_rate = 0.01)\n",
    "\n"
   ]
  },
  {
   "cell_type": "markdown",
   "metadata": {},
   "source": [
    "Comment faut-il choisir le learning rate pour que le modèle apprenne ?\n",
    "    Ca dépend de l'accuracy et des données qu'on a\n",
    "Pourquoi il ne faut pas qu'il soit trop gros ?\n",
    "    Un sur apprentissage\n",
    "Que se passe-t-il si il est trop petit ?\n",
    "    Un sous apprentissage"
   ]
  },
  {
   "cell_type": "markdown",
   "metadata": {},
   "source": []
  },
  {
   "cell_type": "markdown",
   "metadata": {},
   "source": [
    "Créer une variable **model** à l'aide de l'API Séquentielle\n",
    "\n",
    "Il contiendra les couches Dense suivantes :\n",
    "\n",
    "200 neurones avec une activation ReLu\n",
    "\n",
    "100 neurones avec une activation ReLu\n",
    "\n",
    "10 neurones avec une activation softmax\n",
    "\n",
    "Pour la première couche on spécifiera l'argument input_shape en mettant input_shape=(5,)\n",
    "\n",
    "Il faudra compiler le modèle mais pas besoin de l'entraîner (parametre compile : loss='categorical_crossentropy',  \n",
    " optimizer='sgd',  \n",
    " metrics=\\['accuracy'\\])\n"
   ]
  },
  {
   "cell_type": "code",
   "execution_count": 8,
   "metadata": {},
   "outputs": [],
   "source": [
    "model = Sequential([\n",
    "  Dense(200, activation='relu',input_shape=(5,)),\n",
    "  Dense(100, activation='relu'),\n",
    "  Dense(10, activation='softmax')\n",
    "])\n",
    "\n",
    "model.compile(loss='categorical_crossentropy',\n",
    " optimizer='sgd',\n",
    " metrics=['accuracy'])\n",
    "\n"
   ]
  },
  {
   "cell_type": "markdown",
   "metadata": {},
   "source": [
    "Explique ce qu'est un batch et ce qu'est une epoch.\n",
    "    un batch est le nombre d'images utilisées par epoch\n",
    "    une epoch est le nombre de fois qu'un modele va s'entrainer\n",
    "Prenez bien soin d'expliquer la différence entre les deux\n"
   ]
  },
  {
   "cell_type": "markdown",
   "metadata": {},
   "source": []
  },
  {
   "cell_type": "markdown",
   "metadata": {},
   "source": [
    "On a commencé avec un petit modèle avec peu de couches qui a surement donné de faibles performances.\n",
    "\n",
    "Quelles changements dans le réseau et dans l'entraînement pensez-vous qu'il soit judicieux pour que le modèle atteigne une meilleur performance\n",
    "\n",
    "    Plus d'images de train"
   ]
  },
  {
   "cell_type": "markdown",
   "metadata": {},
   "source": []
  }
 ],
 "metadata": {
  "kernelspec": {
   "display_name": "Python 3",
   "language": "python",
   "name": "python3"
  },
  "language_info": {
   "codemirror_mode": {
    "name": "ipython",
    "version": 3
   },
   "file_extension": ".py",
   "mimetype": "text/x-python",
   "name": "python",
   "nbconvert_exporter": "python",
   "pygments_lexer": "ipython3",
   "version": "3.8.10"
  }
 },
 "nbformat": 4,
 "nbformat_minor": 2
}
