{
 "cells": [
  {
   "cell_type": "code",
   "execution_count": 1,
   "metadata": {},
   "outputs": [],
   "source": [
    "from IPython.display import HTML"
   ]
  },
  {
   "cell_type": "markdown",
   "metadata": {},
   "source": [
    "Expliquer ce qu'est une convolution 2D en traitement d'image et le resultat d'une telle opération sur une image\n",
    " dans un tableau 2D on regroupe des pixels ensemble dans une matrice de convolution"
   ]
  },
  {
   "cell_type": "markdown",
   "metadata": {},
   "source": []
  },
  {
   "cell_type": "markdown",
   "metadata": {},
   "source": [
    "from tensorflow.keras.layers import Dense, Dropout, Activation, Flatten, Conv2D, MaxPooling2D\n",
    "Les réseaux de neurones convolutionnels comportent deux parties : la première qui contient les couches convolutionnelles\n",
    "et la seconde qui est composées de couches Denses.\n",
    "\n",
    "Le code ci-dessous permet de créer une couche convolutionnelle, néanmoins la taille de la convolution est trop grande.\n",
    "\n",
    "**De plus, il contient un bug.**\n",
    "\n",
    "Modifier le code pour que la taille soit de 3x3 et qu'il fonctionne\n"
   ]
  },
  {
   "cell_type": "code",
   "execution_count": 3,
   "metadata": {},
   "outputs": [],
   "source": [
    "from tensorflow.keras.layers import Conv2D\n",
    "\n",
    "conv = Conv2D(10, kernel_size=(3, 3), activation=\"relu\")\n",
    "\n"
   ]
  },
  {
   "cell_type": "markdown",
   "metadata": {},
   "source": [
    "Les réseaux de neurones convolutionnels comportent deux parties : la première qui contient les couches convolutionnelles\n",
    " et la seconde qui est composées de couches Denses.\n",
    "\n",
    "Créer une couche convolutionnelle qui contient 30 neurones, un kernel_size de (3, 3) et un stride de 2x2\n"
   ]
  },
  {
   "cell_type": "code",
   "execution_count": 6,
   "metadata": {},
   "outputs": [],
   "source": [
    "\n",
    "from tensorflow.keras.layers import Conv2D\n",
    "\n",
    "conv = Conv2D(30, kernel_size=(3, 3), strides=(2, 2), activation=\"relu\")\n",
    "\n"
   ]
  },
  {
   "cell_type": "markdown",
   "metadata": {},
   "source": [
    "La partie convolutionnelle d'un réseau peut contenir ce qu'on appelle des couches de Pooling qui permettent de réduire la taille des images.\n",
    "\n",
    "Créer une couche une couche de Max pooling 2D avec comme argument pool_size = (3,3)\n"
   ]
  },
  {
   "cell_type": "code",
   "execution_count": 7,
   "metadata": {},
   "outputs": [],
   "source": [
    "from tensorflow.keras.layers import MaxPooling2D\n",
    "pool = MaxPooling2D(pool_size=(3, 3))\n",
    "\n"
   ]
  },
  {
   "cell_type": "markdown",
   "metadata": {},
   "source": [
    "Expliquer ce que fait une couche de pooling.\n",
    "  prend un sous échantillons de valeurs\n",
    "Expliquer les avantages et les inconvénients\n"
   ]
  },
  {
   "cell_type": "markdown",
   "metadata": {},
   "source": []
  },
  {
   "cell_type": "markdown",
   "metadata": {},
   "source": [
    "Les couches convolutionnelles 2D on besoin de Tenseur 4D !\n",
    "\n",
    "La première dimension représente toujours le nombre d'exemples\n",
    "\n",
    "La seconde et la troisième représentent les dimensions de l'image\n",
    "\n",
    "La quatrième représente le nombre de cannaux (1 pour noir et blanc, 3 pour les couleurs)\n",
    "\n",
    "Il y a quatre tableaux numpy chargés dans votre environnement:\n",
    "\n",
    "**x_train** et **x_tes**t (images) et **y_train** et **y_test** (labels correspondants aux chiffres affichées par les images)\n",
    "\n",
    "1\\. Afficher la taille de **x_train** et **x_test**\n",
    "\n",
    "2\\. Avec la méthode reshape, modifier la taille de **x_train** et **x_test** pour que toutes les images passe d'une\n",
    "taille (28, 28) à (28, 28, 1)\n"
   ]
  },
  {
   "cell_type": "code",
   "execution_count": 7,
   "metadata": {},
   "outputs": [
    {
     "name": "stdout",
     "output_type": "stream",
     "text": [
      "(200, 28, 28)\n",
      "(30, 28, 28)\n",
      "(200, 28, 28, 1)\n",
      "(30, 28, 28, 1)\n"
     ]
    }
   ],
   "source": [
    "import tensorflow as tf\n",
    "df = tf.keras.datasets.mnist.load_data()\n",
    "\n",
    "x_train = df[0][0][:200]\n",
    "y_train = df[0][1][:200]\n",
    "x_test = df[1][0][:30]\n",
    "y_test = df[1][1][:30]\n",
    "\n",
    "print(x_train.shape)\n",
    "print(x_test.shape)\n",
    "\n",
    "x_train = x_train.reshape(200, 28, 28,1)\n",
    "x_test = x_test.reshape(30,28, 28, 1)\n",
    "\n",
    "print(x_train.shape)\n",
    "print(x_test.shape)\n",
    "\n"
   ]
  },
  {
   "cell_type": "markdown",
   "metadata": {},
   "source": [
    "Avec Keras créer un réseau de neurones avec les couches suivantes :\n",
    "\n",
    "1. Convolution avec filters=8 et kernel_size=(3, 3)\n",
    "2. MaxPooling avec pool_size=2\n",
    "3. Flatten\n",
    "4. Dense avec 10 neurones et une activation softmax\n",
    "\n",
    "Vous aurez besoin de régler 2 paramètres en plus pour que le modèle soit valide.\n",
    "\n",
    "Appelez votre modèle **model** (sans dec)\n"
   ]
  },
  {
   "cell_type": "code",
   "execution_count": 1,
   "metadata": {},
   "outputs": [
    {
     "name": "stdout",
     "output_type": "stream",
     "text": [
      "<tensorflow.python.keras.engine.sequential.Sequential object at 0x0000028B9E68E7F0>\n"
     ]
    }
   ],
   "source": [
    "from tensorflow.keras.models import Sequential\n",
    "from tensorflow.keras.layers import Dense, Dropout, Activation, Flatten, Conv2D, MaxPooling2D\n",
    "\n",
    "model = Sequential()\n",
    "\n",
    "conv = Conv2D(8, kernel_size=(3, 3), activation=\"relu\")\n",
    "pool = MaxPooling2D(pool_size=(2, 2))\n",
    "model.add(Flatten())\n",
    "model.add(Dense(10, activation=\"softmax\"))\n",
    "\n",
    "print(model)\n",
    "\n"
   ]
  },
  {
   "cell_type": "markdown",
   "metadata": {},
   "source": [
    "On a créé un réseau de neurone convolutionnel qui est stocké dans la variable **model**\n",
    "\n",
    "Compilez le avec l'optimiseur Adam, la fonction de coût categorical_crossentropy et la métrique accuracy.\n"
   ]
  },
  {
   "cell_type": "code",
   "execution_count": 9,
   "metadata": {},
   "outputs": [],
   "source": [
    "from tensorflow.keras.layers import Conv2D, MaxPooling2D, Dense, Flatten\n",
    "from tensorflow.keras.models import Sequential\n",
    "\n",
    "num_filters = 8\n",
    "filter_size = 3\n",
    "pool_size = 2\n",
    "\n",
    "model = Sequential([\n",
    "  Conv2D(num_filters, filter_size, input_shape=(28, 28, 1)),\n",
    "  MaxPooling2D(pool_size=pool_size),\n",
    "  Flatten(),\n",
    "  Dense(10, activation='softmax'),\n",
    "])\n",
    "\n",
    "model.compile(\n",
    "  'adam',\n",
    "  loss='categorical_crossentropy',\n",
    "  metrics=['accuracy'],\n",
    ")\n",
    "\n",
    "\n",
    "\n",
    "\n"
   ]
  },
  {
   "cell_type": "markdown",
   "metadata": {},
   "source": [
    "On a chargé un CNN dans la variable **model** et on l'a compilé.\n",
    "\n",
    "Les variables **model, x_train, x_test, y_train** et **y_test** sont toutes chargées dans votre environnement.\n",
    "\n",
    "Entrainez le modèle avec 6 époques (epoch). Il faudra passer les données de validation à la fonction d'entraînement.\n"
   ]
  },
  {
   "cell_type": "code",
   "execution_count": 12,
   "metadata": {},
   "outputs": [
    {
     "name": "stdout",
     "output_type": "stream",
     "text": [
      "Epoch 1/6\n",
      "7/7 [==============================] - 1s 10ms/step - loss: 40.7615 - accuracy: 0.2050\b\b\b\b\b\b\b\b\b\b\b\b\b\b\b\b\b\b\b\b\b\b\b\b\b\b\b\b\b\b\b\b\b\b\b\b\b\b\b\b\b\b\b\b\b\b\b\b\b\b\b\b\b\b\b\b\b\b\b\b\b\b\b\b\b\b\b\b\b\b\b\b\b\b\b\b\b\b\b\b\b\b\b\b\b\b\b\b\b\b\b\b\b\b\b\b\b\b\b\b\b\b\b\b\b\b\b\b\b\b\b\b\b\b\b\b\b\b\b\b\b\b\b\b\b\b\b\b\b\b\b\b\b\b\b\b\b\b\b\b\b\b\b\b\b\b\b\b\b\b\b\b\b\b\b\b\b\n",
      "Epoch 2/6\n",
      "7/7 [==============================] - 0s 3ms/step - loss: 12.9378 - accuracy: 0.5350\b\b\b\b\b\b\b\b\b\b\b\b\b\b\b\b\b\b\b\b\b\b\b\b\b\b\b\b\b\b\b\b\b\b\b\b\b\b\b\b\b\b\b\b\b\b\b\b\b\b\b\b\b\b\b\b\b\b\b\b\b\b\b\b\b\b\b\b\b\b\b\b\b\b\b\b\b\n",
      "Epoch 3/6\n",
      "7/7 [==============================] - 0s 3ms/step - loss: 5.3488 - accuracy: 0.7700\b\b\b\b\b\b\b\b\b\b\b\b\b\b\b\b\b\b\b\b\b\b\b\b\b\b\b\b\b\b\b\b\b\b\b\b\b\b\b\b\b\b\b\b\b\b\b\b\b\b\b\b\b\b\b\b\b\b\b\b\b\b\b\b\b\b\b\b\b\b\b\b\b\b\b\b\n",
      "Epoch 4/6\n",
      "7/7 [==============================] - 0s 3ms/step - loss: 2.8423 - accuracy: 0.8800\b\b\b\b\b\b\b\b\b\b\b\b\b\b\b\b\b\b\b\b\b\b\b\b\b\b\b\b\b\b\b\b\b\b\b\b\b\b\b\b\b\b\b\b\b\b\b\b\b\b\b\b\b\b\b\b\b\b\b\b\b\b\b\b\b\b\b\b\b\b\b\b\b\b\b\b\n",
      "Epoch 5/6\n",
      "7/7 [==============================] - 0s 3ms/step - loss: 1.3867 - accuracy: 0.9200\b\b\b\b\b\b\b\b\b\b\b\b\b\b\b\b\b\b\b\b\b\b\b\b\b\b\b\b\b\b\b\b\b\b\b\b\b\b\b\b\b\b\b\b\b\b\b\b\b\b\b\b\b\b\b\b\b\b\b\b\b\b\b\b\b\b\b\b\b\b\b\b\b\b\b\b\n",
      "Epoch 6/6\n",
      "7/7 [==============================] - 0s 5ms/step - loss: 0.6556 - accuracy: 0.9650\b\b\b\b\b\b\b\b\b\b\b\b\b\b\b\b\b\b\b\b\b\b\b\b\b\b\b\b\b\b\b\b\b\b\b\b\b\b\b\b\b\b\b\b\b\b\b\b\b\b\b\b\b\b\b\b\b\b\b\b\b\b\b\b\b\b\b\b\b\b\b\b\b\b\b\b\n"
     ]
    },
    {
     "data": {
      "text/plain": "<tensorflow.python.keras.callbacks.History at 0x1e5104e7940>"
     },
     "execution_count": 12,
     "metadata": {},
     "output_type": "execute_result"
    }
   ],
   "source": [
    "import numpy as np\n",
    "import tensorflow as tf\n",
    "df = tf.keras.datasets.mnist.load_data()\n",
    "x_train = df[0][0] \n",
    "x_train = x_train[:200]\n",
    "y_train = df[0][1]\n",
    "y_train = y_train[:200]\n",
    "x_test = df[1][0]\n",
    "x_test = x_test[:30]\n",
    "y_test = df[1][1]\n",
    "y_test = y_test[:30]\n",
    "\n",
    "x_train = np.expand_dims(x_train, axis=3)\n",
    "x_test = np.expand_dims(x_test, axis=3)\n",
    "\n",
    "from tensorflow.keras.utils import to_categorical\n",
    "y_train = to_categorical(y_train)\n",
    "y_test = to_categorical(y_test)\n",
    "\n",
    "from tensorflow.keras.layers import Conv2D, MaxPooling2D, Dense, Flatten\n",
    "from tensorflow.keras.models import Sequential\n",
    "\n",
    "num_filters = 8\n",
    "filter_size = 3\n",
    "pool_size = 2\n",
    "\n",
    "model = Sequential([\n",
    "  Conv2D(num_filters, filter_size, input_shape=(28, 28, 1), name = 'conv2d'),\n",
    "  MaxPooling2D(pool_size=pool_size),\n",
    "  Flatten(),\n",
    "  Dense(10, activation='softmax'),\n",
    "], name = 'oui')\n",
    "\n",
    "model.compile(\n",
    "  'adam',\n",
    "  loss='categorical_crossentropy',\n",
    "  metrics=['accuracy'],\n",
    ")\n",
    "\n",
    "model.fit(x_train, y_train, epochs=6)\n",
    "\n",
    "\n",
    "\n"
   ]
  },
  {
   "cell_type": "markdown",
   "metadata": {},
   "source": [
    "Expliquer la différence entre une couche Dense et convolutionnelle\n",
    "\n",
    "Dense : création de plusieurs matrice en partant des valeurs intilales\n",
    "convutionelle : on utitlise une matrice de convolution pour obtenir un résultat"
   ]
  },
  {
   "cell_type": "markdown",
   "metadata": {},
   "source": []
  },
  {
   "cell_type": "markdown",
   "metadata": {},
   "source": [
    "\n"
   ]
  },
  {
   "cell_type": "code",
   "execution_count": null,
   "metadata": {},
   "outputs": [],
   "source": [
    "\n",
    "\n"
   ]
  }
 ],
 "metadata": {
  "kernelspec": {
   "display_name": "Python 3",
   "language": "python",
   "name": "python3"
  },
  "language_info": {
   "codemirror_mode": {
    "name": "ipython",
    "version": 3
   },
   "file_extension": ".py",
   "mimetype": "text/x-python",
   "name": "python",
   "nbconvert_exporter": "python",
   "pygments_lexer": "ipython3",
   "version": "3.8.10"
  }
 },
 "nbformat": 4,
 "nbformat_minor": 2
}