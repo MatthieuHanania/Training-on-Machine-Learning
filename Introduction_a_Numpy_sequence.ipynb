{
    "metadata": {
        "kernelspec": {
            "display_name": "Python 3",
            "language": "python",
            "name": "python3"
        },
        "language_info": {
            "codemirror_mode": {
                "name": "ipython",
                "version": 3
            },
            "file_extension": ".py",
            "mimetype": "text\/x-python",
            "name": "python",
            "nbconvert_exporter": "python",
            "pygments_lexer": "ipython3",
            "version": "3.5.2"
        }
    },
    "nbformat": 4,
    "nbformat_minor": 2,
    "cells": [
        {
            "cell_type": "code",
            "execution_count": null,
            "metadata": {},
            "outputs": [],
            "source": [
                "from IPython.display import HTML"
            ]
        },
        {
            "cell_type": "code",
            "execution_count": null,
            "metadata": {},
            "outputs": [],
            "source": [
                "import numpy as np\n\nX = np.stack((a,b), axis= 2)\n\nX2 = np.stack(X, axis =1).T\n"
            ]
        },
        {
            "cell_type": "code",
            "execution_count": null,
            "metadata": {},
            "outputs": [],
            "source": [
                "import numpy as np\n\ndef differences(values):\n    \n    v1 = values[1: (len(values))]\n    \n    return v1-values[:-1]\n    "
            ]
        },
        {
            "cell_type": "code",
            "execution_count": null,
            "metadata": {},
            "outputs": [],
            "source": [
                "import numpy as np\n\ndef differences(values):\n    \n    v = values\n    v1 = v[1: (len(v))]\n    \n    v3 = v1-v[:-1]\n    \n    return v3"
            ]
        },
        {
            "cell_type": "code",
            "execution_count": null,
            "metadata": {},
            "outputs": [],
            "source": [
                "import numpy as np\n\ndef np_even_values(vector):\n    mask = (vector % 2 == 0)\n\n    vector = vector[mask]\n\n    return vector"
            ]
        },
        {
            "cell_type": "code",
            "execution_count": null,
            "metadata": {},
            "outputs": [],
            "source": [
                "import numpy as np\n\ndef vector_threshold(numpy_vector, threshold):\n    mask = numpy_vector >= threshold\n    print(mask)\n\n    numpy_vector[mask] = threshold\n\n    return numpy_vector"
            ]
        },
        {
            "cell_type": "code",
            "execution_count": null,
            "metadata": {},
            "outputs": [],
            "source": [
                "import numpy as np\r\nv1 = np.random.randint(-10, 10, 10)\r\n\r\nmask = v1 >0\r\n\r\npositive_v1 = v1[mask]"
            ]
        },
        {
            "cell_type": "code",
            "execution_count": null,
            "metadata": {},
            "outputs": [],
            "source": [
                "row_mean = np.mean(A, axis=1)\n\ncolumn_mean = np.mean(A, axis=0)"
            ]
        },
        {
            "cell_type": "code",
            "execution_count": null,
            "metadata": {},
            "outputs": [],
            "source": [
                "import numpy as np\r\nA = np.zeros((10, 10))\r\n\r\n#reshape matrice A\r\nm = A.reshape(20,5)"
            ]
        },
        {
            "cell_type": "code",
            "execution_count": null,
            "metadata": {},
            "outputs": [],
            "source": [
                "import numpy as np\n\nm = np.zeros((10,10),dtype=int)"
            ]
        },
        {
            "cell_type": "code",
            "execution_count": null,
            "metadata": {},
            "outputs": [],
            "source": [
                "mu, sigma = 0, 1 \n\nv1 = np.random.normal(mu, sigma, 1000)"
            ]
        },
        {
            "cell_type": "code",
            "execution_count": null,
            "metadata": {},
            "outputs": [],
            "source": [
                "import numpy as np\r\nv1 = np.array([1,2,3,4,5])\r\nv2 = np.array([2,3,4,5,6])\r\n\r\nv3 = v1+v2"
            ]
        },
        {
            "cell_type": "code",
            "execution_count": null,
            "metadata": {},
            "outputs": [],
            "source": [
                "\na = np.arange(0,20,0.1)\n"
            ]
        },
        {
            "cell_type": "code",
            "execution_count": null,
            "metadata": {},
            "outputs": [],
            "source": [
                "import numpy as np\n\na = np.array([1,2,3])"
            ]
        }
    ]
}