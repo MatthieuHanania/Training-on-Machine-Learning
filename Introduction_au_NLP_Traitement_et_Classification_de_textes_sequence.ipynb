{
 "cells": [
  {
   "cell_type": "code",
   "execution_count": null,
   "metadata": {},
   "outputs": [],
   "source": [
    "from IPython.display import HTML"
   ]
  },
  {
   "cell_type": "code",
   "execution_count": null,
   "metadata": {},
   "outputs": [],
   "source": [
    "from sklearn.linear_model import LogisticRegression\n",
    "from sklearn.naive_bayes import GaussianNB\n",
    "\n",
    "nbc = GaussianNB()\n",
    "\n",
    "nbc.fit(X_train,y_train)\n",
    "\n",
    "nbc_train_score = nbc.score(X_train,y_train)\n",
    "nbc_test_score = nbc.score(X_test,y_test)"
   ]
  },
  {
   "cell_type": "code",
   "execution_count": null,
   "metadata": {},
   "outputs": [],
   "source": [
    "from sklearn.linear_model import LogisticRegression\n",
    "\n",
    "lr = LogisticRegression()\n",
    "\n",
    "lr.fit(X_train,y_train)\n",
    "\n",
    "lr_train_score = lr.score(X_train,y_train)\n",
    "lr_test_score = lr.score(X_test,y_test)"
   ]
  },
  {
   "cell_type": "code",
   "execution_count": null,
   "metadata": {},
   "outputs": [],
   "source": [
    "from sklearn.linear_model import LogisticRegression\n",
    "\n",
    "lr = LogisticRegression()\n",
    "\n",
    "lr.fit(X_train,y_train)\n",
    "\n",
    "lr_train_score = lr.score(X_train,y_train)\n",
    "lr_test_score = lr.score(X_test,y_test)"
   ]
  },
  {
   "cell_type": "code",
   "execution_count": null,
   "metadata": {},
   "outputs": [],
   "source": [
    "from sklearn.model_selection import train_test_split\n",
    "\n",
    "X_train, X_test, y_train, y_test = train_test_split(X,y,test_size = 0.5 , random_state = 42)"
   ]
  },
  {
   "cell_type": "code",
   "execution_count": null,
   "metadata": {},
   "outputs": [],
   "source": [
    "from sklearn.feature_extraction.text import TfidfVectorizer\n",
    "\n",
    "\n",
    "\n",
    "all_reviews = cleaned_negatives + cleaned_positives \n",
    "\n",
    "y = [0,0,1,1]\n",
    "\n",
    "tfidf = TfidfVectorizer()\n",
    "\n",
    "\n",
    "X = tfidf.fit_transform(all_reviews).toarray()\n",
    "\n",
    "print(X)"
   ]
  },
  {
   "cell_type": "code",
   "execution_count": null,
   "metadata": {},
   "outputs": [],
   "source": [
    "from sklearn.feature_extraction.text import TfidfVectorizer\n",
    "\n",
    "\n",
    "\n",
    "all_reviews =  cleaned_negatives + cleaned_positives \n",
    "\n",
    "y = [0,0,1,1]\n",
    "\n",
    "tfidf = TfidfVectorizer()\n",
    "\n",
    "X = tfidf.fit_transform(all_reviews).toarray()\n",
    "\n",
    "print(X)"
   ]
  },
  {
   "cell_type": "code",
   "execution_count": null,
   "metadata": {},
   "outputs": [],
   "source": [
    "from spacy.tokens import Token\n",
    "import spacy\n",
    "\n",
    "\n",
    "def remove_punctuation_and_digits(string):\n",
    "    \n",
    "    tokenizer = spacy.load(\"en_core_web_sm\")\n",
    "    \n",
    "    \n",
    "    doc = tokenizer(string)\n",
    "    doc = [token.orth_ for token in doc if token.is_alpha]\n",
    "    \n",
    "    return \" \".join(doc)\n",
    "    \n",
    "    "
   ]
  },
  {
   "cell_type": "code",
   "execution_count": null,
   "metadata": {},
   "outputs": [],
   "source": [
    "\n",
    "print(positives)\n",
    "\n",
    "cleaned_positives = [clean_text(text) for text in positives]\n",
    "cleaned_negatives = [clean_text(text) for text in negatives]"
   ]
  },
  {
   "cell_type": "code",
   "execution_count": null,
   "metadata": {},
   "outputs": [],
   "source": [
    "from spacy.tokens import Token\n",
    "import spacy\n",
    "\n",
    "\n",
    "def clean_text(string):\n",
    "    tokenizer = spacy.load(\"en_core_web_sm\")\n",
    "    string = string.lower()\n",
    "    \n",
    "    \n",
    "    doc = tokenizer(string)\n",
    "    doc = [token.lemma_ for token in doc if not token.is_punct  | token.is_digit | token.is_stop]\n",
    "    return \" \".join(doc)"
   ]
  },
  {
   "cell_type": "code",
   "execution_count": null,
   "metadata": {},
   "outputs": [],
   "source": [
    "from spacy.tokenizer import Tokenizer\n",
    "from spacy.lang.en import English\n",
    "from spacy.tokens import Token\n",
    "\n",
    "\n",
    "def remove_stop_words(string):\n",
    "    nlp = English()\n",
    "# Create a Tokenizer with the default settings for English\n",
    "# including punctuation rules and exceptions\n",
    "    tokenizer = nlp.tokenizer\n",
    "    \n",
    "    \n",
    "    doc = tokenizer(string)\n",
    "    doc = [token.orth_ for token in doc if not token.is_stop]\n",
    "    \n",
    "    return \" \".join(doc)\n",
    "    \n",
    "\n"
   ]
  },
  {
   "cell_type": "code",
   "execution_count": null,
   "metadata": {},
   "outputs": [],
   "source": [
    "import spacy\n",
    "\n",
    "nlp = spacy.load(\"en_core_web_sm\")\n",
    "print(type(review))\n",
    "\n",
    "doc = nlp(review)\n",
    "\n",
    "print(type(doc))\n",
    "\n",
    "\n"
   ]
  },
  {
   "cell_type": "code",
   "execution_count": null,
   "metadata": {},
   "outputs": [],
   "source": [
    "review = open(\"review.txt\",'r',encoding='UTF-8').read()\n",
    "\n",
    "print(review)"
   ]
  }
 ],
 "metadata": {
  "kernelspec": {
   "display_name": "Python 3",
   "language": "python",
   "name": "python3"
  },
  "language_info": {
   "codemirror_mode": {
    "name": "ipython",
    "version": 3
   },
   "file_extension": ".py",
   "mimetype": "text/x-python",
   "name": "python",
   "nbconvert_exporter": "python",
   "pygments_lexer": "ipython3",
   "version": "3.8.10"
  }
 },
 "nbformat": 4,
 "nbformat_minor": 2
}
