{
    "metadata": {
        "kernelspec": {
            "display_name": "Python 3",
            "language": "python",
            "name": "python3"
        },
        "language_info": {
            "codemirror_mode": {
                "name": "ipython",
                "version": 3
            },
            "file_extension": ".py",
            "mimetype": "text\/x-python",
            "name": "python",
            "nbconvert_exporter": "python",
            "pygments_lexer": "ipython3",
            "version": "3.5.2"
        }
    },
    "nbformat": 4,
    "nbformat_minor": 2,
    "cells": [
        {
            "cell_type": "code",
            "execution_count": null,
            "metadata": {},
            "outputs": [],
            "source": [
                "from IPython.display import HTML"
            ]
        },
        {
            "cell_type": "code",
            "execution_count": null,
            "metadata": {},
            "outputs": [],
            "source": [
                "import cv2\n\nprint( img.shape)\n\nratio = img.shape[0] \/ img.shape[1]\n#ratio = height \/ width\nprint(ratio)\n\ntarget_height = int(100*ratio)\n\ndim = (target_height,100)\n\nimg_resized = cv2.resize(img, dim)\n\nprint(img_resized.shape)\n\n\n"
            ]
        },
        {
            "cell_type": "code",
            "execution_count": null,
            "metadata": {},
            "outputs": [],
            "source": [
                "import numpy as np\r\nconv_filter = np.array([[-1, -1, -1], [-1, 8, -1], [-1, -1, -1]])\r\n\r\nconvoluted_image= cv2.filter2D(image,-1,conv_filter)"
            ]
        },
        {
            "cell_type": "code",
            "execution_count": null,
            "metadata": {},
            "outputs": [],
            "source": [
                "ret, thresholded= cv2.threshold(img, 127, 255, cv2.THRESH_BINARY) "
            ]
        },
        {
            "cell_type": "code",
            "execution_count": null,
            "metadata": {},
            "outputs": [],
            "source": [
                "import cv2\n\nedges = cv2.Canny(gray,50,150)\n"
            ]
        },
        {
            "cell_type": "code",
            "execution_count": null,
            "metadata": {},
            "outputs": [],
            "source": [
                "import cv2\n\nret, thresh_img= cv2.threshold(img, 170, 255, cv2.THRESH_BINARY) "
            ]
        },
        {
            "cell_type": "code",
            "execution_count": null,
            "metadata": {},
            "outputs": [],
            "source": [
                "import cv2\n\nret, thresh_img= cv2.threshold(img, 170, 255, cv2.THRESH_BINARY) "
            ]
        },
        {
            "cell_type": "code",
            "execution_count": null,
            "metadata": {},
            "outputs": [],
            "source": [
                "import cv2\n\nprint( img.shape)\n\nratio = img.shape[0] \/ img.shape[1]\n#ratio = height \/ width\nprint(ratio)\n\ntarget_height = int(100*ratio)\n\ndim = (target_height,100)\n\nimg_resized = cv2.resize(img, dim)\n\n\n"
            ]
        },
        {
            "cell_type": "code",
            "execution_count": null,
            "metadata": {},
            "outputs": [],
            "source": [
                "import cv2\n\nprint( img.shape)\n\nratio = img.shape[0] \/ img.shape[1]\n#ratio = witdh \/ height\nprint(ratio)\n\ntarget_height = int(100*ratio)\n\ndim = (target_height,100)\n\nimg_resized = cv2.resize(img, dim)\n\n\n"
            ]
        },
        {
            "cell_type": "code",
            "execution_count": null,
            "metadata": {},
            "outputs": [],
            "source": [
                "import cv2\nimport matplotlib.pyplot as plt\n\nhist = plt.hist(bw_img)\nplt.show()"
            ]
        },
        {
            "cell_type": "code",
            "execution_count": null,
            "metadata": {},
            "outputs": [],
            "source": [
                "import cv2\nimport matplotlib.pyplot as plt\n\nhist = cv2.calcHist([img],[0],None,[256],[0,256])\nplt.hist(hist)"
            ]
        },
        {
            "cell_type": "code",
            "execution_count": null,
            "metadata": {},
            "outputs": [],
            "source": [
                "#img variable exists \nimport cv2\n\nbw_img = cv2.cvtColor(img, cv2.COLOR_BGR2GRAY )"
            ]
        },
        {
            "cell_type": "code",
            "execution_count": null,
            "metadata": {},
            "outputs": [],
            "source": [
                "import cv2\nimport matplotlib.pyplot as plt\n\nprint(type(img))\n\nrotated_img = cv2.rotate(img, cv2.ROTATE_90_CLOCKWISE) \n\nplt.imshow(rotated_img)\n\n#exercice correcte mais l'image ne se charge pas \n"
            ]
        },
        {
            "cell_type": "code",
            "execution_count": null,
            "metadata": {},
            "outputs": [],
            "source": [
                "import cv2\nimg = cv2.imread('image.jpg')"
            ]
        },
        {
            "cell_type": "code",
            "execution_count": null,
            "metadata": {},
            "outputs": [],
            "source": [
                "import cv2 as cv2\n\nimg = cv2.imread('image.jpg')"
            ]
        }
    ]
}