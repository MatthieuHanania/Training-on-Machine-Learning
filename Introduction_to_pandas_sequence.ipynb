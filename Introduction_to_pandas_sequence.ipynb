{
    "metadata": {
        "kernelspec": {
            "display_name": "Python 3",
            "language": "python",
            "name": "python3"
        },
        "language_info": {
            "codemirror_mode": {
                "name": "ipython",
                "version": 3
            },
            "file_extension": ".py",
            "mimetype": "text\/x-python",
            "name": "python",
            "nbconvert_exporter": "python",
            "pygments_lexer": "ipython3",
            "version": "3.5.2"
        }
    },
    "nbformat": 4,
    "nbformat_minor": 2,
    "cells": [
        {
            "cell_type": "code",
            "execution_count": null,
            "metadata": {},
            "outputs": [],
            "source": [
                "from IPython.display import HTML"
            ]
        },
        {
            "cell_type": "code",
            "execution_count": null,
            "metadata": {},
            "outputs": [],
            "source": [
                "import pandas as pd\nimport numpy as np\n\ndf = pd.read_csv('tumor_data.csv',index_col =0)\n\nindex_col = ['index_col']\ndf_100 = df[:100]\n\nmask = df['size'] >=0.01 \nmask2 = df['p53 concentration'] >=0.01\n\nselected_lines = df[mask & mask2]\n\n\n\"\"\"\nrecu = df.groupby('account_receiver_name').agg('sum')\nrecu['amount']\n\nd\u00e9pense = df.groupby('account_sender_name').agg('sum')\nd\u00e9pense['amount']\n\nsoldes = recu['amount']-d\u00e9pense['amount']\"\"\""
            ]
        },
        {
            "cell_type": "code",
            "execution_count": null,
            "metadata": {},
            "outputs": [],
            "source": [
                "import pandas as pd\nimport numpy as np\n\ndf = pd.read_csv('transactions.csv')\n\nrecu = df.groupby('account_receiver_name').agg('sum')\nrecu['amount']\n\nd\u00e9pense = df.groupby('account_sender_name').agg('sum')\nd\u00e9pense['amount']\n\nsoldes = recu['amount']-d\u00e9pense['amount']"
            ]
        },
        {
            "cell_type": "code",
            "execution_count": null,
            "metadata": {},
            "outputs": [],
            "source": [
                "import pandas as pd\nimport numpy as np\n\ndf = pd.read_csv('transactions.csv')\n\noutputs = df.groupby('account_receiver_name').agg('sum')\noutputs['amount']"
            ]
        },
        {
            "cell_type": "code",
            "execution_count": null,
            "metadata": {},
            "outputs": [],
            "source": [
                "import pandas as pd\nimport numpy as np\n\ndf = pd.read_csv('house_prices.csv')\n\nmask1 = df['nb_rooms'] >= 3\nmask2 = df['price'] <= 350000\n\nbig_family_houses = df[mask1 & mask2]"
            ]
        },
        {
            "cell_type": "code",
            "execution_count": null,
            "metadata": {},
            "outputs": [],
            "source": [
                "import pandas as pd\nimport numpy as np\n\ndf = pd.read_csv('house_size_bedrooms_orientation_garden.csv')\n\ndf['log_size'] = np.log(1+df['size'])\n\nmask1 = df['orientation'] == 'Sud';\nmask2 = df['garden'] == 1;\n\ndf['south_garden'] = (mask1 & mask2).astype('int')\n\n\"\"\"\ndf['south_garden'] = ((df['orientation'] == 'Sud')  & (df['garden'] == 1))\n\nmask3 = df['south_garden'] == False\nmask4 = df['south_garden'] == True\n\ndf['south_garden'][mask3] = 0\ndf['south_garden'][mask4] = 1\"\"\""
            ]
        },
        {
            "cell_type": "code",
            "execution_count": null,
            "metadata": {},
            "outputs": [],
            "source": [
                "import pandas as pd\nimport numpy as np\n\ndf = pd.read_csv('age_vs_salary.csv')\n\n#mask = all(df['Age'] <=20 and df['Salary'] >=2000)\nmask1 = df['Age'] <=20\nmask2 = df['Salary'] >=2000\n\nselected_lines = df[mask1 & mask2]\n"
            ]
        },
        {
            "cell_type": "code",
            "execution_count": null,
            "metadata": {},
            "outputs": [],
            "source": [
                "import pandas as pd\n\ndf = pd.read_csv('age.csv')\n\nmask = df['age'] >= 25\n\nover_25 = df[mask]\n"
            ]
        },
        {
            "cell_type": "code",
            "execution_count": null,
            "metadata": {},
            "outputs": [],
            "source": [
                "import pandas as pd\n\ndf = pd.read_csv('age.csv')\n\nage_col = df['age']"
            ]
        },
        {
            "cell_type": "code",
            "execution_count": null,
            "metadata": {},
            "outputs": [],
            "source": [
                "import pandas as pd\ndf = pd.read_csv('age.csv')\n\ndf.describe()"
            ]
        }
    ]
}