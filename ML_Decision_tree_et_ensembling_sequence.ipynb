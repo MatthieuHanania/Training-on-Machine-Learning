{
    "metadata": {
        "kernelspec": {
            "display_name": "Python 3",
            "language": "python",
            "name": "python3"
        },
        "language_info": {
            "codemirror_mode": {
                "name": "ipython",
                "version": 3
            },
            "file_extension": ".py",
            "mimetype": "text\/x-python",
            "name": "python",
            "nbconvert_exporter": "python",
            "pygments_lexer": "ipython3",
            "version": "3.5.2"
        }
    },
    "nbformat": 4,
    "nbformat_minor": 2,
    "cells": [
        {
            "cell_type": "code",
            "execution_count": null,
            "metadata": {},
            "outputs": [],
            "source": [
                "from IPython.display import HTML"
            ]
        },
        {
            "cell_type": "code",
            "execution_count": null,
            "metadata": {},
            "outputs": [],
            "source": [
                "from sklearn.ensemble import RandomForestClassifier\r\nfrom sklearn.metrics import confusion_matrix\r\n\r\nmodel = RandomForestClassifier(max_depth = 3, random_state = 0, n_estimators = 50)\r\n\r\nmodel.fit(X_train,y_train)\r\n\r\ny_preds = model.predict(X_test)\r\n\r\n\r\nconf_mat = confusion_matrix(y_test,y_preds)\r\n\r\nfalse_pos = conf_mat[0][1]\r\n\r\nfalse_neg= conf_mat[1][0]\r\n\r\nprint(false_pos, false_neg)\r\n\r\n\r\n"
            ]
        },
        {
            "cell_type": "code",
            "execution_count": null,
            "metadata": {},
            "outputs": [],
            "source": [
                "from sklearn.ensemble import RandomForestClassifier\r\nfrom sklearn.metrics import confusion_matrix\r\n\r\nmodel = RandomForestClassifier(max_depth = 3, random_state = 0, n_estimators = 50)\r\n\r\nmodel.fit(X_train,y_train)\r\n\r\ny_preds = model.predict(X_test)\r\n\r\n\r\nconf_mat = confusion_matrix(y_test,y_preds)\r\n\r\nfalse_pos = conf_mat[0][1]\r\n\r\nfalse_neg= conf_mat[1][0]\r\n\r\n\r\n"
            ]
        },
        {
            "cell_type": "code",
            "execution_count": null,
            "metadata": {},
            "outputs": [],
            "source": [
                "from sklearn.ensemble import RandomForestClassifier\r\nfrom sklearn.metrics import confusion_matrix\r\n\r\nmodel = RandomForestClassifier(max_depth = 3, random_state = 0, n_estimators = 50)\r\n\r\nmodel.fit(X_train,y_train)\r\n\r\ny_preds = model.predict(X_test)\r\n\r\n\r\n\r\nconf_mat = confusion_matrix(y_test,y_preds)\r\n\r\nfalse_pos = conf_mat[0][1]\r\n\r\nfalse_neg= conf_mat[1][0]\r\n\r\n\r\n"
            ]
        },
        {
            "cell_type": "code",
            "execution_count": null,
            "metadata": {},
            "outputs": [],
            "source": [
                "from sklearn.metrics import confusion_matrix\ny_pred = model.predict(X_test)\n\nconf_mat = confusion_matrix(y_test, y_pred)\n\nprint(conf_mat)\ntrue_pos = conf_mat[1,1]\nfalse_neg = conf_mat[1,0]\nfalse_pos = conf_mat[0,1]"
            ]
        },
        {
            "cell_type": "code",
            "execution_count": null,
            "metadata": {},
            "outputs": [],
            "source": [
                "from sklearn.tree import DecisionTreeClassifier\r\nfrom sklearn.metrics import mean_squared_error\r\n\r\n\r\nmodel = DecisionTreeClassifier(random_state=0)\r\n\r\nprint(len(df_train))\r\n\r\nX_train = df_train[['size','p53_concentration']]\r\ny_train = df_train['is_cancerous']\r\n\r\nmodel.fit(X_train,y_train)\r\n\r\npred = model.predict(X_train)\r\nscore_train = model.score(X_train,pred)\r\n#meme r\u00e9sultat\r\nscore_train = model.score(X_train,y_train)\r\n\r\nscore_test = model.score(X_test,y_test)\r\n\r\n\r\n"
            ]
        },
        {
            "cell_type": "code",
            "execution_count": null,
            "metadata": {},
            "outputs": [],
            "source": [
                "import pandas as pd\nfrom sklearn.model_selection import train_test_split\nfrom sklearn.tree import DecisionTreeClassifier\n\ndf = pd.read_csv('tumor_data_two_var.csv')\n\nX = df[['size','p53_concentration']]\ny = df['is_cancerous']\n\nX_train, X_test, y_train, y_test = train_test_split(X, y, test_size=0.4, random_state=42)\n\nmodel = DecisionTreeClassifier(max_depth = 2, random_state = 0)\n\nmodel.fit(X_train,y_train)\n\n\nprint(model.score(X_train,y_train),model.score(X_test,y_test) )\n"
            ]
        },
        {
            "cell_type": "code",
            "execution_count": null,
            "metadata": {},
            "outputs": [],
            "source": [
                "import pandas as pd\nfrom sklearn.model_selection import train_test_split\nfrom sklearn.tree import DecisionTreeClassifier\n\ndf = pd.read_csv('tumor_data_two_var.csv')\n\nX = df[['size','p53_concentration']]\ny = df['is_cancerous']\n\nX_train, X_test, y_train, y_test = train_test_split(X, y, test_size=0.4, random_state=42)\n\nmodel = DecisionTreeClassifier(max_depth = 2, random_state = 0)\n\nmodel.fit(X_train,y_train)\nmodel.fit(X_test,y_test)\n\nprint(model.score(X_train,y_train),model.score(X_test,y_test) )\n"
            ]
        },
        {
            "cell_type": "code",
            "execution_count": null,
            "metadata": {},
            "outputs": [],
            "source": [
                "import pandas as pd\nfrom sklearn.model_selection import train_test_split\nfrom sklearn.tree import DecisionTreeClassifier\n\ndf = pd.read_csv('tumor_data_two_var.csv')\n\nX = df[['size','p53_concentration']]\ny = df['is_cancerous']\n\nX_train, X_test, y_train, y_test = train_test_split(X, y, test_size=0.4, random_state=42)\n\nmodel = DecisionTreeClassifier(max_depth = 2, random_state = 0)\n\nmodel.fit(X_train,y_train)\n\nprint(model.score(X_train,y_train),model.score(X_test,y_test) )\n"
            ]
        },
        {
            "cell_type": "code",
            "execution_count": null,
            "metadata": {},
            "outputs": [],
            "source": [
                "from sklearn.tree import DecisionTreeClassifier\r\nfrom sklearn.metrics import mean_squared_error\r\n\r\n\r\nmodel = DecisionTreeClassifier(random_state=0)\r\n\r\nprint(len(df_train))\r\n\r\nX_train = df_train[['size','p53_concentration']]\r\ny_train = df_train['is_cancerous']\r\n\r\nmodel.fit(X_train,y_train)\r\n\r\npred = model.predict(X_train)\r\nscore_train = model.score(X_train,pred)\r\n#meme r\u00e9sultat\r\nscore_train = model.score(X_train,y_train)\r\n\r\nscore_test = model.score(X_test,y_test)\r\n\r\n\r\n"
            ]
        },
        {
            "cell_type": "code",
            "execution_count": null,
            "metadata": {},
            "outputs": [],
            "source": [
                "from sklearn.tree import DecisionTreeClassifier\r\nfrom sklearn.metrics import mean_squared_error\r\n\r\n\r\nmodel = DecisionTreeClassifier(random_state=0)\r\n\r\nprint(len(df_train))\r\n\r\nX_train = df_train[['size','p53_concentration']]\r\ny_train = df_train['is_cancerous']\r\n\r\nmodel.fit(X_train,y_train)\r\n\r\npred = model.predict(X_train)\r\n\r\nscore_train = model.score(X_train,pred)\r\n\r\nscore_test = model.score(X_test,y_test)\r\n\r\n\r\n"
            ]
        },
        {
            "cell_type": "code",
            "execution_count": null,
            "metadata": {},
            "outputs": [],
            "source": [
                "from sklearn.tree import DecisionTreeClassifier\r\nfrom sklearn.metrics import mean_squared_error\r\n\r\n\r\nmodel = DecisionTreeClassifier(random_state=0)\r\n\r\nprint(len(df_train))\r\n\r\nX_train = df_train[['size','p53_concentration']]\r\ny_train = df_train['is_cancerous']\r\n\r\nmodel.fit(X_train,y_train)\r\ny_train = model.predict(X_train)\r\n\r\nscore_train = model.score(X_train,y_train)\r\n\r\nscore_test = model.score(X_test,y_test)\r\n\r\n\r\n"
            ]
        },
        {
            "cell_type": "code",
            "execution_count": null,
            "metadata": {},
            "outputs": [],
            "source": [
                "from sklearn.tree import DecisionTreeClassifier\r\nfrom sklearn.metrics import mean_squared_error\r\n\r\n\r\nmodel = DecisionTreeClassifier(random_state=0)\r\n\r\nprint(len(df_train))\r\n\r\nX_train = df_train[['size','p53_concentration']]\r\ny_train = df_train['is_cancerous']\r\n\r\nmodel.fit(X_train,y_train)\r\n\r\nscore_train = model.score(X_train,y_train)\r\n\r\nscore_test = model.score(X_test,y_test)\r\n\r\n\r\n"
            ]
        },
        {
            "cell_type": "code",
            "execution_count": null,
            "metadata": {},
            "outputs": [],
            "source": [
                "from sklearn.tree import DecisionTreeClassifier\r\nfrom sklearn.metrics import mean_squared_error\r\n\r\n\r\nmodel = DecisionTreeClassifier(random_state=0)\r\n\r\nprint(len(df_train))\r\n\r\nX_train = df_train[['size','p53_concentration']]\r\ny_train = df_train['is_cancerous']\r\n\r\nmodel.fit(X_train,y_train)\r\n\r\nscore_train = model.score(X_train,y_train)\r\n\r\nscore_test = model.score(X_test,y_test)\r\n\r\n\r\n"
            ]
        },
        {
            "cell_type": "code",
            "execution_count": null,
            "metadata": {},
            "outputs": [],
            "source": [
                "import pandas as pd\r\n\r\ndef predict_cancer(size, p53_concentration):\r\n    if(size >=0.03):\r\n        return 1\r\n    elif(p53_concentration >= 0.01):\r\n        return 1\r\n    else:\r\n        return 0\r\n    \r\n    \r\n    \r\ndf = pd.read_csv('tumor_data_two_var.csv')\r\nnum_cas_cancer = 0;\r\n\r\nfor i in range(len(df)):\r\n    if (predict_cancer(df['size'][i],df['p53_concentration'][i]) == 1):\r\n        num_cas_cancer+=1\r\n"
            ]
        }
    ]
}