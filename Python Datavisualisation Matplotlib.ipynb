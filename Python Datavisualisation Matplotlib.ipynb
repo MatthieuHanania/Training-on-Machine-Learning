{
 "cells": [
  {
   "cell_type": "code",
   "execution_count": null,
   "metadata": {},
   "outputs": [],
   "source": [
    "from IPython.display import HTML"
   ]
  },
  {
   "cell_type": "code",
   "execution_count": 1,
   "metadata": {},
   "outputs": [
    {
     "data": {
      "image/png": "[encoded data removed]",
      "text/plain": [
       "<Figure size 720x576 with 1 Axes>"
      ]
     },
     "metadata": {
      "needs_background": "light"
     },
     "output_type": "display_data"
    }
   ],
   "source": [
    "import numpy as np\n",
    "import matplotlib.pyplot as plt\n",
    "\n",
    "step =.1\n",
    "x = np.arange(0,10+step,step)\n",
    "y=x**2\n",
    "\n",
    "fig,ax = plt.subplots(figsize=[10, 8])\n",
    "ax.plot(x,y)\n",
    "axins = ax.inset_axes([0.1, 0.5, 0.4, 0.4])\n",
    "axins.plot(x[:10],y[:10])\n",
    "ax.indicate_inset_zoom(axins, linewidth=3)\n",
    "axins.set_xticklabels('')\n",
    "axins.set_yticklabels('')\n",
    "plt.show()"
   ]
  },
  {
   "cell_type": "code",
   "execution_count": 2,
   "metadata": {},
   "outputs": [
    {
     "ename": "NameError",
     "evalue": "name 'timestamp' is not defined",
     "output_type": "error",
     "traceback": [
      "\u001B[1;31m---------------------------------------------------------------------------\u001B[0m",
      "\u001B[1;31mNameError\u001B[0m                                 Traceback (most recent call last)",
      "\u001B[1;32m<ipython-input-2-4857fa324566>\u001B[0m in \u001B[0;36m<module>\u001B[1;34m\u001B[0m\n\u001B[0;32m      1\u001B[0m \u001B[1;32mimport\u001B[0m \u001B[0mmatplotlib\u001B[0m\u001B[1;33m.\u001B[0m\u001B[0mpyplot\u001B[0m \u001B[1;32mas\u001B[0m \u001B[0mplt\u001B[0m\u001B[1;33m\u001B[0m\u001B[1;33m\u001B[0m\u001B[0m\n\u001B[1;32m----> 2\u001B[1;33m \u001B[0mplt\u001B[0m\u001B[1;33m.\u001B[0m\u001B[0mscatter\u001B[0m\u001B[1;33m(\u001B[0m\u001B[0mtimestamp\u001B[0m\u001B[1;33m,\u001B[0m \u001B[0mT\u001B[0m\u001B[1;33m,\u001B[0m \u001B[0mvmin\u001B[0m \u001B[1;33m=\u001B[0m \u001B[1;36m15\u001B[0m\u001B[1;33m,\u001B[0m \u001B[0mvmax\u001B[0m \u001B[1;33m=\u001B[0m \u001B[1;36m30\u001B[0m\u001B[1;33m,\u001B[0m \u001B[0mc\u001B[0m \u001B[1;33m=\u001B[0m \u001B[0mT\u001B[0m\u001B[1;33m,\u001B[0m \u001B[0mmarker\u001B[0m \u001B[1;33m=\u001B[0m \u001B[1;34m'^'\u001B[0m\u001B[1;33m,\u001B[0m\u001B[0mlabel\u001B[0m \u001B[1;33m=\u001B[0m \u001B[1;34m\"T\"\u001B[0m\u001B[1;33m)\u001B[0m\u001B[1;33m\u001B[0m\u001B[1;33m\u001B[0m\u001B[0m\n\u001B[0m\u001B[0;32m      3\u001B[0m \u001B[0mplt\u001B[0m\u001B[1;33m.\u001B[0m\u001B[0mscatter\u001B[0m\u001B[1;33m(\u001B[0m\u001B[0mtimestamp\u001B[0m\u001B[1;33m,\u001B[0m \u001B[0mT2\u001B[0m\u001B[1;33m,\u001B[0m \u001B[0mvmin\u001B[0m \u001B[1;33m=\u001B[0m \u001B[1;36m15\u001B[0m\u001B[1;33m,\u001B[0m \u001B[0mvmax\u001B[0m \u001B[1;33m=\u001B[0m \u001B[1;36m30\u001B[0m\u001B[1;33m,\u001B[0m \u001B[0mc\u001B[0m \u001B[1;33m=\u001B[0m \u001B[0mT2\u001B[0m\u001B[1;33m,\u001B[0m \u001B[0mmarker\u001B[0m \u001B[1;33m=\u001B[0m \u001B[1;34m'x'\u001B[0m\u001B[1;33m,\u001B[0m\u001B[0mlabel\u001B[0m \u001B[1;33m=\u001B[0m \u001B[1;34m\"T2\"\u001B[0m\u001B[1;33m)\u001B[0m\u001B[1;33m\u001B[0m\u001B[1;33m\u001B[0m\u001B[0m\n\u001B[0;32m      4\u001B[0m \u001B[1;33m\u001B[0m\u001B[0m\n\u001B[0;32m      5\u001B[0m \u001B[0mplt\u001B[0m\u001B[1;33m.\u001B[0m\u001B[0mtitle\u001B[0m\u001B[1;33m(\u001B[0m\u001B[1;34m\"Température T et T2 par heure\"\u001B[0m\u001B[1;33m)\u001B[0m\u001B[1;33m\u001B[0m\u001B[1;33m\u001B[0m\u001B[0m\n",
      "\u001B[1;31mNameError\u001B[0m: name 'timestamp' is not defined"
     ]
    }
   ],
   "source": [
    "import matplotlib.pyplot as plt\n",
    "plt.scatter(timestamp, T, vmin = 15, vmax = 30, c = T, marker = '^',label = \"T\")\n",
    "plt.scatter(timestamp, T2, vmin = 15, vmax = 30, c = T2, marker = 'x',label = \"T2\")\n",
    "\n",
    "plt.title(\"Température T et T2 par heure\")\n",
    "plt.xlabel(\"Heure\")\n",
    "plt.ylabel(\"Température\")\n",
    "plt.legend()"
   ]
  },
  {
   "cell_type": "code",
   "execution_count": null,
   "metadata": {},
   "outputs": [],
   "source": [
    "plt.scatter(timestamp, T, c=T, vmin = 15, vmax=30,marker ='^')\n",
    "plt.scatter(timestamp, T2, c=T2, vmin = 15, vmax=30, marker ='x')\n",
    "\n",
    "plt.title(\"Temperature T et T2 par heure\")\n",
    "plt.xlabel(\"heure\")\n",
    "plt.xlabel(\"température\")\n",
    "plt.legend()"
   ]
  },
  {
   "cell_type": "code",
   "execution_count": null,
   "metadata": {},
   "outputs": [],
   "source": [
    "plt.scatter(timestamp, T, c=T, vmin = 15, vmax=30,marker ='^')\n",
    "plt.scatter(timestamp, T2, c=T2, vmin = 15, vmax=30, marker ='x')\n",
    "\n",
    "plt.title(\"Temperature T et T2 par heure\")\n",
    "plt.xlabel(\"heure\")\n",
    "plt.xlabel(\"température\")\n",
    "plt.legend()"
   ]
  },
  {
   "cell_type": "code",
   "execution_count": null,
   "metadata": {},
   "outputs": [],
   "source": [
    "plt.scatter(timestamp, T, c=T, vmin = 15, vmax=30,marker ='^')\n",
    "plt.scatter(timestamp, T2, c=T2, vmin = 15, vmax=30, marker ='x')\n",
    "\n",
    "plt.title(\"Temperature T et T2 par heure\")\n",
    "plt.xlabel(\"heure\")\n",
    "plt.xlabel(\"température\")\n",
    "plt.legend()"
   ]
  },
  {
   "cell_type": "code",
   "execution_count": null,
   "metadata": {},
   "outputs": [],
   "source": [
    "plt.scatter(timestamp, T, c=T, vmin = 15, vmax=30,marker ='^')\n",
    "plt.scatter(timestamp, T2, c=T2, vmin = 15, vmax=30, marker ='x')"
   ]
  },
  {
   "cell_type": "code",
   "execution_count": null,
   "metadata": {},
   "outputs": [],
   "source": [
    "n_non_abonnés = n_voyageurs - n_abonnés\n",
    "\n",
    "plt.bar(tranche_age,n_voyageurs,bottom=n_abonnés)\n",
    "plt.bar(tranche_age,n_abonnés,bottom=n_abonnés)\n",
    "plt.bar(tranche_age,n_non_abonnés,bottom=n_abonnés)\n"
   ]
  },
  {
   "cell_type": "code",
   "execution_count": null,
   "metadata": {},
   "outputs": [],
   "source": [
    "plt.bar(tranche_age, n_voyageurs)"
   ]
  },
  {
   "cell_type": "code",
   "execution_count": null,
   "metadata": {},
   "outputs": [],
   "source": [
    "x = np.random.randn(1000)\n",
    "\n",
    "fig, axs = plt.subplots(1, 2, sharey=True, tight_layout=True)\n",
    "\n",
    "axs[0].hist(x)"
   ]
  },
  {
   "cell_type": "code",
   "execution_count": null,
   "metadata": {},
   "outputs": [],
   "source": [
    "x = np.arange(-5,5.1,0.1)\n",
    "\n",
    "y = x**2\n",
    "\n",
    "plt.plot(x,y)\n",
    "\n",
    "\n",
    "\n"
   ]
  },
  {
   "cell_type": "code",
   "execution_count": null,
   "metadata": {},
   "outputs": [],
   "source": [
    "plt.scatter(experience, salary)"
   ]
  },
  {
   "cell_type": "code",
   "execution_count": null,
   "metadata": {},
   "outputs": [],
   "source": [
    "print(experience, salary) # already existing\n",
    "\n",
    "plt.plot(experience, salary)"
   ]
  },
  {
   "cell_type": "code",
   "execution_count": null,
   "metadata": {},
   "outputs": [],
   "source": [
    "print(experience, salary) # already existing\n",
    "\n",
    "plt.plot(experience, salary)"
   ]
  }
 ],
 "metadata": {
  "kernelspec": {
   "display_name": "Python 3",
   "language": "python",
   "name": "python3"
  },
  "language_info": {
   "codemirror_mode": {
    "name": "ipython",
    "version": 3
   },
   "file_extension": ".py",
   "mimetype": "text/x-python",
   "name": "python",
   "nbconvert_exporter": "python",
   "pygments_lexer": "ipython3",
   "version": "3.8.10"
  }
 },
 "nbformat": 4,
 "nbformat_minor": 2
}